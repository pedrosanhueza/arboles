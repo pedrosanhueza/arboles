{
 "cells": [
  {
   "cell_type": "code",
   "execution_count": 1,
   "metadata": {},
   "outputs": [],
   "source": [
    "import pandas as pd\n"
   ]
  },
  {
   "cell_type": "code",
   "execution_count": 61,
   "metadata": {},
   "outputs": [],
   "source": [
    "df = pd.read_csv(\"/Users/pedrosanhueza/EXOXY/Administrative Documents/Jobs/geoaire/Planilla I-tree Candelaria.csv\")"
   ]
  },
  {
   "cell_type": "code",
   "execution_count": 63,
   "metadata": {},
   "outputs": [],
   "source": [
    "df.columns = map(str.lower, df.columns)"
   ]
  },
  {
   "cell_type": "code",
   "execution_count": 67,
   "metadata": {},
   "outputs": [
    {
     "data": {
      "text/html": [
       "<div>\n",
       "<style scoped>\n",
       "    .dataframe tbody tr th:only-of-type {\n",
       "        vertical-align: middle;\n",
       "    }\n",
       "\n",
       "    .dataframe tbody tr th {\n",
       "        vertical-align: top;\n",
       "    }\n",
       "\n",
       "    .dataframe thead th {\n",
       "        text-align: right;\n",
       "    }\n",
       "</style>\n",
       "<table border=\"1\" class=\"dataframe\">\n",
       "  <thead>\n",
       "    <tr style=\"text-align: right;\">\n",
       "      <th></th>\n",
       "      <th>MP2,5 (µg/m³)</th>\n",
       "      <th>Velocidad del viento (m/s)</th>\n",
       "      <th>Altura de Mezcla (m)</th>\n",
       "    </tr>\n",
       "  </thead>\n",
       "  <tbody>\n",
       "    <tr>\n",
       "      <th>0</th>\n",
       "      <td>25.6</td>\n",
       "      <td>3,0</td>\n",
       "      <td>124.207</td>\n",
       "    </tr>\n",
       "    <tr>\n",
       "      <th>1</th>\n",
       "      <td>7.0</td>\n",
       "      <td>2,6</td>\n",
       "      <td>78.278</td>\n",
       "    </tr>\n",
       "    <tr>\n",
       "      <th>2</th>\n",
       "      <td>5.4</td>\n",
       "      <td>1,8</td>\n",
       "      <td>51.695</td>\n",
       "    </tr>\n",
       "    <tr>\n",
       "      <th>3</th>\n",
       "      <td>4.0</td>\n",
       "      <td>1,4</td>\n",
       "      <td>50.000</td>\n",
       "    </tr>\n",
       "    <tr>\n",
       "      <th>4</th>\n",
       "      <td>11.5</td>\n",
       "      <td>1,2</td>\n",
       "      <td>50.000</td>\n",
       "    </tr>\n",
       "    <tr>\n",
       "      <th>...</th>\n",
       "      <td>...</td>\n",
       "      <td>...</td>\n",
       "      <td>...</td>\n",
       "    </tr>\n",
       "    <tr>\n",
       "      <th>8317</th>\n",
       "      <td>10.1</td>\n",
       "      <td>3,7</td>\n",
       "      <td>140.479</td>\n",
       "    </tr>\n",
       "    <tr>\n",
       "      <th>8318</th>\n",
       "      <td>11.8</td>\n",
       "      <td>3,2</td>\n",
       "      <td>64.357</td>\n",
       "    </tr>\n",
       "    <tr>\n",
       "      <th>8319</th>\n",
       "      <td>12.5</td>\n",
       "      <td>3,1</td>\n",
       "      <td>77.685</td>\n",
       "    </tr>\n",
       "    <tr>\n",
       "      <th>8320</th>\n",
       "      <td>10.8</td>\n",
       "      <td>2,4</td>\n",
       "      <td>77.483</td>\n",
       "    </tr>\n",
       "    <tr>\n",
       "      <th>8321</th>\n",
       "      <td>8.8</td>\n",
       "      <td>1,8</td>\n",
       "      <td>55.234</td>\n",
       "    </tr>\n",
       "  </tbody>\n",
       "</table>\n",
       "<p>8322 rows × 3 columns</p>\n",
       "</div>"
      ],
      "text/plain": [
       "      MP2,5 (µg/m³) Velocidad del viento (m/s)  Altura de Mezcla (m)\n",
       "0              25.6                        3,0               124.207\n",
       "1               7.0                        2,6                78.278\n",
       "2               5.4                        1,8                51.695\n",
       "3               4.0                        1,4                50.000\n",
       "4              11.5                        1,2                50.000\n",
       "...             ...                        ...                   ...\n",
       "8317           10.1                        3,7               140.479\n",
       "8318           11.8                        3,2                64.357\n",
       "8319           12.5                        3,1                77.685\n",
       "8320           10.8                        2,4                77.483\n",
       "8321            8.8                        1,8                55.234\n",
       "\n",
       "[8322 rows x 3 columns]"
      ]
     },
     "execution_count": 67,
     "metadata": {},
     "output_type": "execute_result"
    }
   ],
   "source": [
    "# Check if 'fecha' is in the columns\n",
    "if 'fecha' in df.columns:\n",
    "    # Drop the 'fecha' column\n",
    "    df = df.drop('fecha', axis=1)\n",
    "\n",
    "# change column name 'velocidad'\n",
    "substrings_to_replace_velocidad = [\"vv\", \"viento\", \"velocidad\", \"velocidad del viento\"]\n",
    "for column in df.columns:\n",
    "    if any(substring in column.lower() for substring in substrings_to_replace_velocidad):\n",
    "        new_column_name = \"Velocidad del viento (m/s)\"\n",
    "        df.rename(columns={column: new_column_name}, inplace=True)\n",
    "\n",
    "# change column name 'mp2,5'\n",
    "substrings_to_replace_mp = [\"mp\", \"2,5\", \"25\"]\n",
    "for column in df.columns:\n",
    "    if any(substring in column.lower() for substring in substrings_to_replace_mp):\n",
    "        new_column_name = \"MP2,5 (µg/m³)\"\n",
    "        df.rename(columns={column: new_column_name}, inplace=True)\n",
    "\n",
    "# change column name 'altura'\n",
    "substrings_to_replace_mp = [\"mh\", \"altura\", \"mezcla\"]\n",
    "for column in df.columns:\n",
    "    if any(substring in column.lower() for substring in substrings_to_replace_mp):\n",
    "        new_column_name = \"Altura de Mezcla (m)\"\n",
    "        df.rename(columns={column: new_column_name}, inplace=True)\n",
    "\n",
    "df"
   ]
  },
  {
   "cell_type": "code",
   "execution_count": 299,
   "metadata": {},
   "outputs": [
    {
     "name": "stdout",
     "output_type": "stream",
     "text": [
      "I_1 = 0.00000003150000000000\n",
      "0.00000003150000000000 = ( 0.00000000000000000000 + 0.00000070000000000000 ) * 4.50000000000000000000 / 100\n",
      "F_0 = 0.00000066850000000000\n",
      "\n",
      "I_1 = 0.00000002905500000000\n",
      "0.00000002905500000000 = ( 0.00000066850000000000 + 0.00000030000000000000 ) * 3.00000000000000000000 / 100\n",
      "F_0 = 0.00000093944500000000\n",
      "\n",
      "I_1 = 0.00000001559167500000\n",
      "0.00000001559167500000 = ( 0.00000093944500000000 + 0.00000010000000000000 ) * 1.50000000000000000000 / 100\n",
      "F_0 = 0.00000102385332500000\n",
      "\n",
      "I_1 = 0.00000002135779987500\n",
      "0.00000002135779987500 = ( 0.00000102385332500000 + 0.00000040000000000000 ) * 1.50000000000000000000 / 100\n",
      "F_0 = 0.00000140249552512500\n",
      "\n",
      "I_1 = 0.00000002703743287687\n",
      "0.00000002703743287687 = ( 0.00000140249552512500 + 0.00000040000000000000 ) * 1.50000000000000000000 / 100\n",
      "F_0 = 0.00000177545809224812\n",
      "\n",
      "I_1 = 0.00000000000000000000\n",
      "0.00000000000000000000 = ( 0.00000177545809224812 + 0.00000000000000000000 ) * 0.00000000000000000000 / 100\n",
      "F_0 = 0.00000177545809224812\n",
      "\n",
      "I_1 = 0.00000003413187138372\n",
      "0.00000003413187138372 = ( 0.00000177545809224812 + 0.00000050000000000000 ) * 1.50000000000000000000 / 100\n",
      "F_0 = 0.00000224132622086440\n",
      "\n",
      "I_1 = 0.00000010623978662593\n",
      "0.00000010623978662593 = ( 0.00000224132622086440 + 0.00000130000000000000 ) * 3.00000000000000000000 / 100\n",
      "F_0 = 0.00000343508643423847\n",
      "\n",
      "I_1 = 0.00000026257888954073\n",
      "0.00000026257888954073 = ( 0.00000343508643423847 + 0.00000240000000000000 ) * 4.50000000000000000000 / 100\n",
      "F_0 = 0.00000557250754469774\n",
      "\n",
      "I_1 = 0.00000043635045268186\n",
      "0.00000043635045268186 = ( 0.00000557250754469774 + 0.00000170000000000000 ) * 6.00000000000000000000 / 100\n",
      "F_0 = 0.00000683615709201588\n",
      "\n",
      "\n",
      "I_1 = 0.00000043635045268186\n",
      "F_0 = 0.00000683615709201588\n",
      "\n"
     ]
    }
   ],
   "source": [
    "B = [4.5,3.0,1.5,1.5,1.5,0.0,1.5,3.0,4.5,6.0]\n",
    "C = [0.0000007,0.0000003,0.0000001,0.0000004,0.0000004,0.0000000,0.0000005,0.0000013,0.0000024,0.0000017]\n",
    "\n",
    "F_0 = 0\n",
    "I_0 = 0\n",
    "\n",
    "for row_b, row_c in zip(B,C):\n",
    "    I_1 = ( F_0 + row_c ) * row_b / 100\n",
    "    print(f\"I_1 = {I_1:.20f}\".format(I_1))\n",
    "    print(f\"{I_1:.20f} = ( {F_0:.20f} + {row_c:.20f} ) * {row_b:.20f} / {100}\")\n",
    "    F_0 = F_0 + row_c - I_1\n",
    "    print(f\"F_0 = {F_0:.20f}\\n\".format(F_0))\n",
    "\n",
    "print(f'''\n",
    "I_1 = {I_1:.20f}\n",
    "F_0 = {F_0:.20f}\n",
    "''')"
   ]
  },
  {
   "cell_type": "code",
   "execution_count": 303,
   "metadata": {},
   "outputs": [
    {
     "name": "stdout",
     "output_type": "stream",
     "text": [
      "0.30000000000000004\n"
     ]
    }
   ],
   "source": [
    "print(0.1 + 0.2)"
   ]
  },
  {
   "cell_type": "code",
   "execution_count": 304,
   "metadata": {},
   "outputs": [
    {
     "data": {
      "text/plain": [
       "'0.30000000000000004'"
      ]
     },
     "execution_count": 304,
     "metadata": {},
     "output_type": "execute_result"
    }
   ],
   "source": [
    "\"0.30000000000000004\""
   ]
  },
  {
   "cell_type": "code",
   "execution_count": null,
   "metadata": {},
   "outputs": [],
   "source": []
  }
 ],
 "metadata": {
  "kernelspec": {
   "display_name": "Python 3",
   "language": "python",
   "name": "python3"
  },
  "language_info": {
   "codemirror_mode": {
    "name": "ipython",
    "version": 3
   },
   "file_extension": ".py",
   "mimetype": "text/x-python",
   "name": "python",
   "nbconvert_exporter": "python",
   "pygments_lexer": "ipython3",
   "version": "3.9.0"
  }
 },
 "nbformat": 4,
 "nbformat_minor": 2
}
