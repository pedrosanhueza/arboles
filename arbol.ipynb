{
 "cells": [
  {
   "cell_type": "code",
   "execution_count": 1,
   "metadata": {},
   "outputs": [],
   "source": [
    "import pandas as pd\n"
   ]
  },
  {
   "cell_type": "code",
   "execution_count": 4,
   "metadata": {},
   "outputs": [],
   "source": [
    "df = pd.read_csv(\"/Users/pedrosanhueza/EXOXY/Administrative Documents/Jobs/geoaire/Planilla I-tree Candelaria.csv\")"
   ]
  },
  {
   "cell_type": "code",
   "execution_count": 5,
   "metadata": {},
   "outputs": [
    {
     "data": {
      "text/html": [
       "<div>\n",
       "<style scoped>\n",
       "    .dataframe tbody tr th:only-of-type {\n",
       "        vertical-align: middle;\n",
       "    }\n",
       "\n",
       "    .dataframe tbody tr th {\n",
       "        vertical-align: top;\n",
       "    }\n",
       "\n",
       "    .dataframe thead th {\n",
       "        text-align: right;\n",
       "    }\n",
       "</style>\n",
       "<table border=\"1\" class=\"dataframe\">\n",
       "  <thead>\n",
       "    <tr style=\"text-align: right;\">\n",
       "      <th></th>\n",
       "      <th>Fecha</th>\n",
       "      <th>MP2,5 (µg/m³)</th>\n",
       "      <th>Velocidad del viento (m/s)</th>\n",
       "      <th>Altura de \\nMezcla (m)</th>\n",
       "    </tr>\n",
       "  </thead>\n",
       "  <tbody>\n",
       "    <tr>\n",
       "      <th>0</th>\n",
       "      <td>44562.00000</td>\n",
       "      <td>25.6</td>\n",
       "      <td>3,0</td>\n",
       "      <td>124.207</td>\n",
       "    </tr>\n",
       "    <tr>\n",
       "      <th>1</th>\n",
       "      <td>44562.04167</td>\n",
       "      <td>7.0</td>\n",
       "      <td>2,6</td>\n",
       "      <td>78.278</td>\n",
       "    </tr>\n",
       "    <tr>\n",
       "      <th>2</th>\n",
       "      <td>44562.08333</td>\n",
       "      <td>5.4</td>\n",
       "      <td>1,8</td>\n",
       "      <td>51.695</td>\n",
       "    </tr>\n",
       "    <tr>\n",
       "      <th>3</th>\n",
       "      <td>44562.12500</td>\n",
       "      <td>4.0</td>\n",
       "      <td>1,4</td>\n",
       "      <td>50.000</td>\n",
       "    </tr>\n",
       "    <tr>\n",
       "      <th>4</th>\n",
       "      <td>44562.16667</td>\n",
       "      <td>11.5</td>\n",
       "      <td>1,2</td>\n",
       "      <td>50.000</td>\n",
       "    </tr>\n",
       "    <tr>\n",
       "      <th>...</th>\n",
       "      <td>...</td>\n",
       "      <td>...</td>\n",
       "      <td>...</td>\n",
       "      <td>...</td>\n",
       "    </tr>\n",
       "    <tr>\n",
       "      <th>8317</th>\n",
       "      <td>44926.79167</td>\n",
       "      <td>10.1</td>\n",
       "      <td>3,7</td>\n",
       "      <td>140.479</td>\n",
       "    </tr>\n",
       "    <tr>\n",
       "      <th>8318</th>\n",
       "      <td>44926.83333</td>\n",
       "      <td>11.8</td>\n",
       "      <td>3,2</td>\n",
       "      <td>64.357</td>\n",
       "    </tr>\n",
       "    <tr>\n",
       "      <th>8319</th>\n",
       "      <td>44926.87500</td>\n",
       "      <td>12.5</td>\n",
       "      <td>3,1</td>\n",
       "      <td>77.685</td>\n",
       "    </tr>\n",
       "    <tr>\n",
       "      <th>8320</th>\n",
       "      <td>44926.91667</td>\n",
       "      <td>10.8</td>\n",
       "      <td>2,4</td>\n",
       "      <td>77.483</td>\n",
       "    </tr>\n",
       "    <tr>\n",
       "      <th>8321</th>\n",
       "      <td>44926.95833</td>\n",
       "      <td>8.8</td>\n",
       "      <td>1,8</td>\n",
       "      <td>55.234</td>\n",
       "    </tr>\n",
       "  </tbody>\n",
       "</table>\n",
       "<p>8322 rows × 4 columns</p>\n",
       "</div>"
      ],
      "text/plain": [
       "            Fecha  MP2,5 (µg/m³) Velocidad del viento (m/s)  \\\n",
       "0     44562.00000           25.6                        3,0   \n",
       "1     44562.04167            7.0                        2,6   \n",
       "2     44562.08333            5.4                        1,8   \n",
       "3     44562.12500            4.0                        1,4   \n",
       "4     44562.16667           11.5                        1,2   \n",
       "...           ...            ...                        ...   \n",
       "8317  44926.79167           10.1                        3,7   \n",
       "8318  44926.83333           11.8                        3,2   \n",
       "8319  44926.87500           12.5                        3,1   \n",
       "8320  44926.91667           10.8                        2,4   \n",
       "8321  44926.95833            8.8                        1,8   \n",
       "\n",
       "      Altura de \\nMezcla (m)  \n",
       "0                    124.207  \n",
       "1                     78.278  \n",
       "2                     51.695  \n",
       "3                     50.000  \n",
       "4                     50.000  \n",
       "...                      ...  \n",
       "8317                 140.479  \n",
       "8318                  64.357  \n",
       "8319                  77.685  \n",
       "8320                  77.483  \n",
       "8321                  55.234  \n",
       "\n",
       "[8322 rows x 4 columns]"
      ]
     },
     "execution_count": 5,
     "metadata": {},
     "output_type": "execute_result"
    }
   ],
   "source": [
    "df"
   ]
  },
  {
   "cell_type": "code",
   "execution_count": 17,
   "metadata": {},
   "outputs": [
    {
     "data": {
      "text/plain": [
       "0       3.0\n",
       "1       3.0\n",
       "2       2.0\n",
       "3       1.0\n",
       "4       1.0\n",
       "       ... \n",
       "8317    4.0\n",
       "8318    3.0\n",
       "8319    3.0\n",
       "8320    2.0\n",
       "8321    2.0\n",
       "Name: Velocidad del viento (m/s), Length: 8322, dtype: float64"
      ]
     },
     "execution_count": 17,
     "metadata": {},
     "output_type": "execute_result"
    }
   ],
   "source": [
    "df[df.columns[2]].apply(lambda x: float(x.replace(\",\",\".\"))).round()"
   ]
  },
  {
   "cell_type": "code",
   "execution_count": null,
   "metadata": {},
   "outputs": [],
   "source": []
  }
 ],
 "metadata": {
  "kernelspec": {
   "display_name": "Python 3",
   "language": "python",
   "name": "python3"
  },
  "language_info": {
   "codemirror_mode": {
    "name": "ipython",
    "version": 3
   },
   "file_extension": ".py",
   "mimetype": "text/x-python",
   "name": "python",
   "nbconvert_exporter": "python",
   "pygments_lexer": "ipython3",
   "version": "3.10.7"
  }
 },
 "nbformat": 4,
 "nbformat_minor": 2
}
