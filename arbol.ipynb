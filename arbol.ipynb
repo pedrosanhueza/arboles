{
 "cells": [
  {
   "cell_type": "code",
   "execution_count": 1,
   "metadata": {},
   "outputs": [],
   "source": [
    "import pandas as pd"
   ]
  },
  {
   "cell_type": "code",
   "execution_count": 20,
   "metadata": {},
   "outputs": [],
   "source": [
    "sample_data = {\n",
    "    'Fecha': ['1/1/22 0:00', '1/1/22 1:00', '1/1/22 2:00'],\n",
    "    'MP2.5 (µg/m³)': [25.6, 7.0, 5.4],\n",
    "    'Velocidad del viento (m/s)': [\"3,0\", \"2,6\", \"1,8\"],\n",
    "    'Altura de Mezcla (m)': [124, 78, 52]\n",
    "}\n",
    "\n",
    "df = pd.DataFrame(sample_data)"
   ]
  },
  {
   "cell_type": "code",
   "execution_count": 44,
   "metadata": {},
   "outputs": [],
   "source": [
    "df = pd.read_csv(\"/Users/pedrosanhueza/EXOXY/Administrative Documents/Jobs/geoaire/Planilla I-tree Candelaria.csv\")"
   ]
  },
  {
   "cell_type": "code",
   "execution_count": 45,
   "metadata": {},
   "outputs": [],
   "source": [
    "df[df.columns[2]] = df[df.columns[2]].astype(str)\n",
    "\n",
    "df[df.columns[2]] = df[df.columns[2]].apply(lambda x: x.replace(\",\",\".\"))\n",
    "\n",
    "df[df.columns[2]] = df[df.columns[2]].astype(float)"
   ]
  },
  {
   "cell_type": "code",
   "execution_count": 46,
   "metadata": {},
   "outputs": [
    {
     "data": {
      "text/plain": [
       "0       3.0\n",
       "1       2.6\n",
       "2       1.8\n",
       "3       1.4\n",
       "4       1.2\n",
       "       ... \n",
       "8317    3.7\n",
       "8318    3.2\n",
       "8319    3.1\n",
       "8320    2.4\n",
       "8321    1.8\n",
       "Name: Velocidad del viento (m/s), Length: 8322, dtype: float64"
      ]
     },
     "execution_count": 46,
     "metadata": {},
     "output_type": "execute_result"
    }
   ],
   "source": [
    "df[df.columns[2]]"
   ]
  },
  {
   "cell_type": "code",
   "execution_count": null,
   "metadata": {},
   "outputs": [],
   "source": []
  }
 ],
 "metadata": {
  "kernelspec": {
   "display_name": "Python 3",
   "language": "python",
   "name": "python3"
  },
  "language_info": {
   "codemirror_mode": {
    "name": "ipython",
    "version": 3
   },
   "file_extension": ".py",
   "mimetype": "text/x-python",
   "name": "python",
   "nbconvert_exporter": "python",
   "pygments_lexer": "ipython3",
   "version": "3.10.7"
  }
 },
 "nbformat": 4,
 "nbformat_minor": 2
}
