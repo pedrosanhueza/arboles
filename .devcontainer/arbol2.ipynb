{
 "cells": [
  {
   "cell_type": "code",
   "execution_count": 274,
   "metadata": {},
   "outputs": [],
   "source": [
    "import pandas as pd\n",
    "from decimal import Decimal, ROUND_HALF_UP, getcontext\n",
    "\n",
    "# read all values as a string\n",
    "df = pd.read_csv(\"/Users/pedrosanhueza/EXOXY/Administrative Documents/Jobs/geoaire/Planilla.csv\", dtype=str)\n",
    "\n",
    "# drop 'fecha' column\n",
    "df.columns = map(str.lower, df.columns)\n",
    "if 'fecha' in df.columns:\n",
    "    df = df.drop('fecha', axis=1)\n",
    "\n",
    "# change column name 'velocidad'\n",
    "substrings_to_replace_velocidad = [\"vv\", \"viento\", \"velocidad\", \"velocidad del viento\"]\n",
    "for column in df.columns:\n",
    "    if any(substring in column.lower() for substring in substrings_to_replace_velocidad):\n",
    "        new_column_name = \"Velocidad del viento (m/s)\"\n",
    "        df.rename(columns={column: new_column_name}, inplace=True)\n",
    "\n",
    "# change column name 'mp2,5'\n",
    "substrings_to_replace_mp = [\"mp\", \"2,5\", \"25\"]\n",
    "for column in df.columns:\n",
    "    if any(substring in column.lower() for substring in substrings_to_replace_mp):\n",
    "        new_column_name = \"MP2,5 (µg/m³)\"\n",
    "        df.rename(columns={column: new_column_name}, inplace=True)\n",
    "\n",
    "# change column name 'altura'\n",
    "substrings_to_replace_mp = [\"mh\", \"altura\", \"mezcla\"]\n",
    "for column in df.columns:\n",
    "    if any(substring in column.lower() for substring in substrings_to_replace_mp):\n",
    "        new_column_name = \"Altura de Mezcla (m)\"\n",
    "        df.rename(columns={column: new_column_name}, inplace=True)\n",
    "\n",
    "# replace comma with dots\n",
    "df = df.applymap(lambda x: str(x).replace(',', '.'))\n",
    "\n",
    "# convert values to decimals\n",
    "df = df.applymap(lambda x: Decimal(x) if pd.notna(x) else x)\n",
    "\n",
    "lai = Decimal('0.15')\n",
    "tc = Decimal('0.05')\n",
    "\n",
    "# round values in Velocidad del viento\n",
    "getcontext().rounding = ROUND_HALF_UP\n",
    "decimal_places = 0\n",
    "def round_half_up(value):\n",
    "    return Decimal(str(value)).quantize(Decimal('1e-{0}'.format(decimal_places)))\n",
    "# Apply the rounding function to the specified column\n",
    "df['Velocidad del viento (m/s)'] = df['Velocidad del viento (m/s)'].apply(lambda x: round_half_up(x))\n",
    "\n",
    "table1 = {\n",
    "    'Velocidad del viento (m/s)': ['0', '1', '2', '3', '4', '5', '6', '7', '8', '9', '10', '11', '12', '13'],\n",
    "    'Promedio': ['0', '0.03', '0.09', '0.15', '0.17', '0.19', '0.2', '0.56', '0.92', '0.92', '2.11', '2.11', '2.11', '2.11'],\n",
    "    'Mínimo': ['0', '0.006', '0.012', '0.018', '0.022', '0.025', '0.029', '0.056', '0.082', '0.082', '0.57', '0.57', '0.57', '0.57'],\n",
    "    'Máximo': ['0', '0.042', '0.163', '0.285', '0.349', '0.414', '0.478', '1.506', '2.534', '2.534', '2.534', '2.534', '2.534', '2.534'],\n",
    "    '% Resuspensión': ['0', '1.5', '3', '4.5', '6', '7.5', '9', '10', '11', '12', '13', '16', '20', '23']\n",
    "}\n",
    "\n",
    "reference_table = pd.DataFrame(table1).applymap(lambda x: Decimal(x) if pd.notna(x) else x)\n",
    "\n",
    "df = pd.merge(df, reference_table, on='Velocidad del viento (m/s)', how='left')\n",
    "\n",
    "df['Vd (cm/s)']     = lai * df['Promedio']\n",
    "df['Vd,min (cm/s)'] = lai * df['Mínimo']\n",
    "df['Vd,max (cm/s)'] = lai * df['Máximo']"
   ]
  },
  {
   "cell_type": "code",
   "execution_count": 275,
   "metadata": {},
   "outputs": [
    {
     "name": "stdout",
     "output_type": "stream",
     "text": [
      "MP2,5 (µg/m³)\n",
      "Velocidad del viento (m/s)\n",
      "Altura de Mezcla (m)\n",
      "Promedio\n",
      "Mínimo\n",
      "Máximo\n",
      "% Resuspensión\n",
      "Vd (cm/s)\n",
      "Vd,min (cm/s)\n",
      "Vd,max (cm/s)\n"
     ]
    }
   ],
   "source": [
    "for e in df.columns:\n",
    "    print(e)"
   ]
  },
  {
   "cell_type": "code",
   "execution_count": 276,
   "metadata": {},
   "outputs": [],
   "source": [
    "columns_zip = zip(\n",
    "df['MP2,5 (µg/m³)'],\n",
    "df['Velocidad del viento (m/s)'],\n",
    "df['Altura de Mezcla (m)'],\n",
    "df['Promedio'],\n",
    "df['Mínimo'],\n",
    "df['Máximo'],\n",
    "df['% Resuspensión'],\n",
    ")"
   ]
  },
  {
   "cell_type": "code",
   "execution_count": 277,
   "metadata": {},
   "outputs": [],
   "source": [
    "at_min = Decimal('0')\n",
    "at_max = Decimal('0')\n",
    "at_avg = Decimal('0')\n",
    "r_min  = Decimal('0')\n",
    "r_max  = Decimal('0')\n",
    "r_avg  = Decimal('0')"
   ]
  },
  {
   "cell_type": "code",
   "execution_count": 278,
   "metadata": {},
   "outputs": [],
   "source": [
    "suma_change_c_avg = 0\n",
    "suma_change_c_min = 0\n",
    "suma_change_c_max = 0"
   ]
  },
  {
   "cell_type": "code",
   "execution_count": 279,
   "metadata": {},
   "outputs": [],
   "source": [
    "for mp25, vv, h, avg, min, max, resus in columns_zip:\n",
    "\n",
    "    vd_avg = lai * avg\n",
    "    vd_min = lai * min\n",
    "    vd_max = lai * max\n",
    "\n",
    "    mp25_g   = mp25 / 1000000\n",
    "\n",
    "    vd_avg_m = vd_avg / 100\n",
    "    vd_min_m = vd_min / 100\n",
    "    vd_max_m = vd_max / 100\n",
    "\n",
    "    f_avg = 3600 * mp25_g * vd_avg_m\n",
    "    f_min = 3600 * mp25_g * vd_min_m\n",
    "    f_max = 3600 * mp25_g * vd_max_m\n",
    "\n",
    "\n",
    "    r_avg = ( at_avg + f_avg ) * resus / 100\n",
    "    at_avg = at_avg + f_avg - r_avg\n",
    "    r_min = ( at_min + f_min ) * resus / 100\n",
    "    at_min = at_min + f_min - r_min\n",
    "    r_max = ( at_max + f_max ) * resus / 100\n",
    "    at_max = at_max + f_max - r_max\n",
    "\n",
    "    f_neto_avg = f_avg - r_avg\n",
    "    f_neto_min = f_min - r_min\n",
    "    f_neto_max = f_max - r_max\n",
    "\n",
    "    f_ugm2h_avg = f_neto_avg * 1000000\n",
    "    f_ugm2h_min = f_neto_min * 1000000\n",
    "    f_ugm2h_max = f_neto_max * 1000000\n",
    "\n",
    "    m_total = mp25 * h\n",
    "\n",
    "    i_Unit_avg = f_ugm2h_avg * 100 / m_total if f_ugm2h_avg < 1 else f_ugm2h_avg * 100 / (m_total + f_ugm2h_avg)\n",
    "    i_Unit_min = f_ugm2h_min * 100 / m_total if f_ugm2h_min < 1 else f_ugm2h_min * 100 / (m_total + f_ugm2h_min)\n",
    "    i_Unit_max = f_ugm2h_max * 100 / m_total if f_ugm2h_max < 1 else f_ugm2h_max * 100 / (m_total + f_ugm2h_max)\n",
    "\n",
    "    i_total_avg = f_ugm2h_avg * tc * 100 / (f_ugm2h_avg * tc + m_total)\n",
    "    i_total_min = f_ugm2h_min * tc * 100 / (f_ugm2h_min * tc + m_total)\n",
    "    i_total_max = f_ugm2h_max * tc * 100 / (f_ugm2h_max * tc + m_total)\n",
    "\n",
    "    change_c_avg = mp25 / (1 - i_total_avg / 100) - mp25\n",
    "    change_c_min = mp25 / (1 - i_total_min / 100) - mp25\n",
    "    change_c_max = mp25 / (1 - i_total_max / 100) - mp25\n",
    "\n",
    "    suma_change_c_avg += change_c_avg\n",
    "    suma_change_c_min += change_c_min\n",
    "    suma_change_c_max += change_c_max\n"
   ]
  },
  {
   "cell_type": "code",
   "execution_count": 281,
   "metadata": {},
   "outputs": [
    {
     "data": {
      "text/plain": [
       "Decimal('-0.4380732330891817289033955774')"
      ]
     },
     "execution_count": 281,
     "metadata": {},
     "output_type": "execute_result"
    }
   ],
   "source": [
    "suma_change_c_min\n"
   ]
  },
  {
   "cell_type": "code",
   "execution_count": 282,
   "metadata": {},
   "outputs": [
    {
     "data": {
      "text/plain": [
       "Decimal('-4.330024800488444631016522326')"
      ]
     },
     "execution_count": 282,
     "metadata": {},
     "output_type": "execute_result"
    }
   ],
   "source": [
    "suma_change_c_avg"
   ]
  },
  {
   "cell_type": "code",
   "execution_count": 283,
   "metadata": {},
   "outputs": [
    {
     "data": {
      "text/plain": [
       "Decimal('-10.46927043035815098046140998')"
      ]
     },
     "execution_count": 283,
     "metadata": {},
     "output_type": "execute_result"
    }
   ],
   "source": [
    "suma_change_c_max"
   ]
  },
  {
   "cell_type": "code",
   "execution_count": 284,
   "metadata": {},
   "outputs": [
    {
     "data": {
      "text/html": [
       "<div>\n",
       "<style scoped>\n",
       "    .dataframe tbody tr th:only-of-type {\n",
       "        vertical-align: middle;\n",
       "    }\n",
       "\n",
       "    .dataframe tbody tr th {\n",
       "        vertical-align: top;\n",
       "    }\n",
       "\n",
       "    .dataframe thead th {\n",
       "        text-align: right;\n",
       "    }\n",
       "</style>\n",
       "<table border=\"1\" class=\"dataframe\">\n",
       "  <thead>\n",
       "    <tr style=\"text-align: right;\">\n",
       "      <th></th>\n",
       "      <th>Fecha</th>\n",
       "      <th>MP2,5 (µg/m³)</th>\n",
       "      <th>Velocidad del viento (m/s)</th>\n",
       "      <th>Altura de \\nMezcla (m)</th>\n",
       "    </tr>\n",
       "  </thead>\n",
       "  <tbody>\n",
       "    <tr>\n",
       "      <th>0</th>\n",
       "      <td>44562</td>\n",
       "      <td>25.6</td>\n",
       "      <td>3,0</td>\n",
       "      <td>124.207</td>\n",
       "    </tr>\n",
       "    <tr>\n",
       "      <th>1</th>\n",
       "      <td>44562.04167</td>\n",
       "      <td>7</td>\n",
       "      <td>2,6</td>\n",
       "      <td>78.278</td>\n",
       "    </tr>\n",
       "    <tr>\n",
       "      <th>2</th>\n",
       "      <td>44562.08333</td>\n",
       "      <td>5.4</td>\n",
       "      <td>1,8</td>\n",
       "      <td>51.695</td>\n",
       "    </tr>\n",
       "    <tr>\n",
       "      <th>3</th>\n",
       "      <td>44562.125</td>\n",
       "      <td>4</td>\n",
       "      <td>1,4</td>\n",
       "      <td>50</td>\n",
       "    </tr>\n",
       "    <tr>\n",
       "      <th>4</th>\n",
       "      <td>44562.16667</td>\n",
       "      <td>11.5</td>\n",
       "      <td>1,2</td>\n",
       "      <td>50</td>\n",
       "    </tr>\n",
       "    <tr>\n",
       "      <th>...</th>\n",
       "      <td>...</td>\n",
       "      <td>...</td>\n",
       "      <td>...</td>\n",
       "      <td>...</td>\n",
       "    </tr>\n",
       "    <tr>\n",
       "      <th>8317</th>\n",
       "      <td>44926.79167</td>\n",
       "      <td>10.1</td>\n",
       "      <td>3,7</td>\n",
       "      <td>140.479</td>\n",
       "    </tr>\n",
       "    <tr>\n",
       "      <th>8318</th>\n",
       "      <td>44926.83333</td>\n",
       "      <td>11.8</td>\n",
       "      <td>3,2</td>\n",
       "      <td>64.357</td>\n",
       "    </tr>\n",
       "    <tr>\n",
       "      <th>8319</th>\n",
       "      <td>44926.875</td>\n",
       "      <td>12.5</td>\n",
       "      <td>3,1</td>\n",
       "      <td>77.685</td>\n",
       "    </tr>\n",
       "    <tr>\n",
       "      <th>8320</th>\n",
       "      <td>44926.91667</td>\n",
       "      <td>10.8</td>\n",
       "      <td>2,4</td>\n",
       "      <td>77.483</td>\n",
       "    </tr>\n",
       "    <tr>\n",
       "      <th>8321</th>\n",
       "      <td>44926.95833</td>\n",
       "      <td>8.8</td>\n",
       "      <td>1,8</td>\n",
       "      <td>55.234</td>\n",
       "    </tr>\n",
       "  </tbody>\n",
       "</table>\n",
       "<p>8322 rows × 4 columns</p>\n",
       "</div>"
      ],
      "text/plain": [
       "            Fecha MP2,5 (µg/m³) Velocidad del viento (m/s)  \\\n",
       "0           44562          25.6                        3,0   \n",
       "1     44562.04167             7                        2,6   \n",
       "2     44562.08333           5.4                        1,8   \n",
       "3       44562.125             4                        1,4   \n",
       "4     44562.16667          11.5                        1,2   \n",
       "...           ...           ...                        ...   \n",
       "8317  44926.79167          10.1                        3,7   \n",
       "8318  44926.83333          11.8                        3,2   \n",
       "8319    44926.875          12.5                        3,1   \n",
       "8320  44926.91667          10.8                        2,4   \n",
       "8321  44926.95833           8.8                        1,8   \n",
       "\n",
       "     Altura de \\nMezcla (m)  \n",
       "0                   124.207  \n",
       "1                    78.278  \n",
       "2                    51.695  \n",
       "3                        50  \n",
       "4                        50  \n",
       "...                     ...  \n",
       "8317                140.479  \n",
       "8318                 64.357  \n",
       "8319                 77.685  \n",
       "8320                 77.483  \n",
       "8321                 55.234  \n",
       "\n",
       "[8322 rows x 4 columns]"
      ]
     },
     "execution_count": 284,
     "metadata": {},
     "output_type": "execute_result"
    }
   ],
   "source": [
    "df = pd.read_csv(\"/Users/pedrosanhueza/EXOXY/Administrative Documents/Jobs/geoaire/Planilla.csv\", dtype=str)\n",
    "\n",
    "df"
   ]
  },
  {
   "cell_type": "code",
   "execution_count": 286,
   "metadata": {},
   "outputs": [],
   "source": [
    "df = df.apply(lambda x: str(x).replace(',', '.'))"
   ]
  },
  {
   "cell_type": "code",
   "execution_count": null,
   "metadata": {},
   "outputs": [],
   "source": []
  }
 ],
 "metadata": {
  "kernelspec": {
   "display_name": "Python 3",
   "language": "python",
   "name": "python3"
  },
  "language_info": {
   "codemirror_mode": {
    "name": "ipython",
    "version": 3
   },
   "file_extension": ".py",
   "mimetype": "text/x-python",
   "name": "python",
   "nbconvert_exporter": "python",
   "pygments_lexer": "ipython3",
   "version": "3.9.0"
  }
 },
 "nbformat": 4,
 "nbformat_minor": 2
}
